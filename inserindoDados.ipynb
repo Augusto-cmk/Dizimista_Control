{
 "cells": [
  {
   "cell_type": "code",
   "execution_count": 72,
   "metadata": {},
   "outputs": [],
   "source": [
    "import os\n",
    "import pandas as pd\n",
    "from Data.database import BancodeDados,BancodeDados_cadastro\n",
    "from modelo.dizimista import dizimista\n",
    "from modelo.rua import Rua\n",
    "import numpy as np"
   ]
  },
  {
   "cell_type": "code",
   "execution_count": 56,
   "metadata": {},
   "outputs": [
    {
     "data": {
      "text/plain": [
       "False"
      ]
     },
     "execution_count": 56,
     "metadata": {},
     "output_type": "execute_result"
    }
   ],
   "source": [
    "cadastro = BancodeDados_cadastro()\n",
    "cadastro.criar()\n",
    "cadastro.inserirCadastro(\"Suely\",\"Carolina98771139\",\"Suely Aparecida\",\"Comunidade Santa Mônica\")"
   ]
  },
  {
   "cell_type": "code",
   "execution_count": 57,
   "metadata": {},
   "outputs": [],
   "source": [
    "comunidade = BancodeDados(\"Comunidade Santa Mônica\")\n",
    "comunidade.criar()"
   ]
  },
  {
   "cell_type": "code",
   "execution_count": 58,
   "metadata": {},
   "outputs": [],
   "source": [
    "documentos = os.listdir(\"DadosAno\")"
   ]
  },
  {
   "cell_type": "code",
   "execution_count": 59,
   "metadata": {},
   "outputs": [],
   "source": [
    "datas = list()\n",
    "path = \"DadosAno/\"\n",
    "for doc in documentos:\n",
    "    datas.append(pd.read_excel(path+doc))"
   ]
  },
  {
   "cell_type": "code",
   "execution_count": 60,
   "metadata": {},
   "outputs": [],
   "source": [
    "anos = [\"2021\",\"2022\",\"2023\"]\n",
    "meses = [\"Janeiro\",\"Fevereiro\",\"Março\",\"Abril\",\"Maio\",\"Junho\",\"Julho\",\"Agosto\",\"Setembro\",\"Outubro\",\"Novembro\",\"Dezembro\"]"
   ]
  },
  {
   "attachments": {},
   "cell_type": "markdown",
   "metadata": {},
   "source": [
    "### Arrumar uma forma de pegar os dados dos dizimistas e inserir no banco de dados \n",
    "A dica é usar os anos e meses para preencher as doações, pegar os dizimistas"
   ]
  },
  {
   "cell_type": "code",
   "execution_count": 61,
   "metadata": {},
   "outputs": [
    {
     "data": {
      "text/html": [
       "<div>\n",
       "<style scoped>\n",
       "    .dataframe tbody tr th:only-of-type {\n",
       "        vertical-align: middle;\n",
       "    }\n",
       "\n",
       "    .dataframe tbody tr th {\n",
       "        vertical-align: top;\n",
       "    }\n",
       "\n",
       "    .dataframe thead th {\n",
       "        text-align: right;\n",
       "    }\n",
       "</style>\n",
       "<table border=\"1\" class=\"dataframe\">\n",
       "  <thead>\n",
       "    <tr style=\"text-align: right;\">\n",
       "      <th></th>\n",
       "      <th>Unnamed: 0</th>\n",
       "      <th>Dizimista</th>\n",
       "      <th>N° Casa</th>\n",
       "      <th>Aniversário</th>\n",
       "      <th>Janeiro</th>\n",
       "      <th>Fevereiro</th>\n",
       "      <th>Março</th>\n",
       "      <th>Abril</th>\n",
       "      <th>Maio</th>\n",
       "      <th>Junho</th>\n",
       "      <th>Julho</th>\n",
       "      <th>Agosto</th>\n",
       "      <th>Setembro</th>\n",
       "      <th>Outubro</th>\n",
       "      <th>Novembro</th>\n",
       "      <th>Dezembro</th>\n",
       "      <th>Rua</th>\n",
       "      <th>Zelador</th>\n",
       "    </tr>\n",
       "  </thead>\n",
       "  <tbody>\n",
       "    <tr>\n",
       "      <th>0</th>\n",
       "      <td>0</td>\n",
       "      <td>Renilde das Graças</td>\n",
       "      <td>758</td>\n",
       "      <td>20/07/2021</td>\n",
       "      <td>0</td>\n",
       "      <td>0</td>\n",
       "      <td>0</td>\n",
       "      <td>0</td>\n",
       "      <td>0</td>\n",
       "      <td>0</td>\n",
       "      <td>0</td>\n",
       "      <td>0</td>\n",
       "      <td>0</td>\n",
       "      <td>0</td>\n",
       "      <td>0</td>\n",
       "      <td>0</td>\n",
       "      <td>Palmeiras</td>\n",
       "      <td>Leire</td>\n",
       "    </tr>\n",
       "    <tr>\n",
       "      <th>1</th>\n",
       "      <td>1</td>\n",
       "      <td>Mirian da Conceição Neves</td>\n",
       "      <td>769A</td>\n",
       "      <td>30/11/1957</td>\n",
       "      <td>0</td>\n",
       "      <td>0</td>\n",
       "      <td>0</td>\n",
       "      <td>0</td>\n",
       "      <td>0</td>\n",
       "      <td>0</td>\n",
       "      <td>1</td>\n",
       "      <td>1</td>\n",
       "      <td>0</td>\n",
       "      <td>1</td>\n",
       "      <td>1</td>\n",
       "      <td>1</td>\n",
       "      <td>Palmeiras</td>\n",
       "      <td>Leire</td>\n",
       "    </tr>\n",
       "    <tr>\n",
       "      <th>2</th>\n",
       "      <td>2</td>\n",
       "      <td>Nilton Antônio Neves</td>\n",
       "      <td>769A</td>\n",
       "      <td>08/08/2021</td>\n",
       "      <td>0</td>\n",
       "      <td>0</td>\n",
       "      <td>0</td>\n",
       "      <td>0</td>\n",
       "      <td>0</td>\n",
       "      <td>0</td>\n",
       "      <td>1</td>\n",
       "      <td>1</td>\n",
       "      <td>1</td>\n",
       "      <td>1</td>\n",
       "      <td>1</td>\n",
       "      <td>1</td>\n",
       "      <td>Palmeiras</td>\n",
       "      <td>Leire</td>\n",
       "    </tr>\n",
       "    <tr>\n",
       "      <th>3</th>\n",
       "      <td>3</td>\n",
       "      <td>Julia Alves</td>\n",
       "      <td>823</td>\n",
       "      <td>20/01/2021</td>\n",
       "      <td>0</td>\n",
       "      <td>0</td>\n",
       "      <td>0</td>\n",
       "      <td>0</td>\n",
       "      <td>0</td>\n",
       "      <td>0</td>\n",
       "      <td>0</td>\n",
       "      <td>1</td>\n",
       "      <td>1</td>\n",
       "      <td>1</td>\n",
       "      <td>0</td>\n",
       "      <td>0</td>\n",
       "      <td>Palmeiras</td>\n",
       "      <td>Leire</td>\n",
       "    </tr>\n",
       "    <tr>\n",
       "      <th>4</th>\n",
       "      <td>4</td>\n",
       "      <td>Wiliam José</td>\n",
       "      <td>823</td>\n",
       "      <td>09/09/2021</td>\n",
       "      <td>0</td>\n",
       "      <td>0</td>\n",
       "      <td>0</td>\n",
       "      <td>0</td>\n",
       "      <td>0</td>\n",
       "      <td>0</td>\n",
       "      <td>0</td>\n",
       "      <td>1</td>\n",
       "      <td>1</td>\n",
       "      <td>1</td>\n",
       "      <td>0</td>\n",
       "      <td>0</td>\n",
       "      <td>Palmeiras</td>\n",
       "      <td>Leire</td>\n",
       "    </tr>\n",
       "    <tr>\n",
       "      <th>...</th>\n",
       "      <td>...</td>\n",
       "      <td>...</td>\n",
       "      <td>...</td>\n",
       "      <td>...</td>\n",
       "      <td>...</td>\n",
       "      <td>...</td>\n",
       "      <td>...</td>\n",
       "      <td>...</td>\n",
       "      <td>...</td>\n",
       "      <td>...</td>\n",
       "      <td>...</td>\n",
       "      <td>...</td>\n",
       "      <td>...</td>\n",
       "      <td>...</td>\n",
       "      <td>...</td>\n",
       "      <td>...</td>\n",
       "      <td>...</td>\n",
       "      <td>...</td>\n",
       "    </tr>\n",
       "    <tr>\n",
       "      <th>243</th>\n",
       "      <td>243</td>\n",
       "      <td>Vilma Layses da Rocha</td>\n",
       "      <td>205</td>\n",
       "      <td>12/10/1800</td>\n",
       "      <td>0</td>\n",
       "      <td>0</td>\n",
       "      <td>0</td>\n",
       "      <td>0</td>\n",
       "      <td>0</td>\n",
       "      <td>0</td>\n",
       "      <td>0</td>\n",
       "      <td>0</td>\n",
       "      <td>0</td>\n",
       "      <td>0</td>\n",
       "      <td>1</td>\n",
       "      <td>0</td>\n",
       "      <td>Madressilvas</td>\n",
       "      <td>Ivone</td>\n",
       "    </tr>\n",
       "    <tr>\n",
       "      <th>244</th>\n",
       "      <td>244</td>\n",
       "      <td>Gabriel Henrique da Costa Oliveira</td>\n",
       "      <td>35</td>\n",
       "      <td>12/10/1800</td>\n",
       "      <td>0</td>\n",
       "      <td>0</td>\n",
       "      <td>0</td>\n",
       "      <td>0</td>\n",
       "      <td>0</td>\n",
       "      <td>0</td>\n",
       "      <td>0</td>\n",
       "      <td>0</td>\n",
       "      <td>0</td>\n",
       "      <td>0</td>\n",
       "      <td>1</td>\n",
       "      <td>0</td>\n",
       "      <td>Aurelio Lopes</td>\n",
       "      <td>Maria da Conceição</td>\n",
       "    </tr>\n",
       "    <tr>\n",
       "      <th>245</th>\n",
       "      <td>245</td>\n",
       "      <td>Elaine Cristina Ferreira da Costa</td>\n",
       "      <td>35</td>\n",
       "      <td>12/10/1800</td>\n",
       "      <td>0</td>\n",
       "      <td>0</td>\n",
       "      <td>0</td>\n",
       "      <td>0</td>\n",
       "      <td>0</td>\n",
       "      <td>0</td>\n",
       "      <td>0</td>\n",
       "      <td>0</td>\n",
       "      <td>0</td>\n",
       "      <td>0</td>\n",
       "      <td>1</td>\n",
       "      <td>0</td>\n",
       "      <td>Aurelio Lopes</td>\n",
       "      <td>Maria da Conceição</td>\n",
       "    </tr>\n",
       "    <tr>\n",
       "      <th>246</th>\n",
       "      <td>246</td>\n",
       "      <td>Josilany da Consolação</td>\n",
       "      <td>721</td>\n",
       "      <td>12/10/1800</td>\n",
       "      <td>0</td>\n",
       "      <td>0</td>\n",
       "      <td>0</td>\n",
       "      <td>0</td>\n",
       "      <td>0</td>\n",
       "      <td>0</td>\n",
       "      <td>0</td>\n",
       "      <td>0</td>\n",
       "      <td>0</td>\n",
       "      <td>0</td>\n",
       "      <td>0</td>\n",
       "      <td>1</td>\n",
       "      <td>Papoulas</td>\n",
       "      <td>Valter</td>\n",
       "    </tr>\n",
       "    <tr>\n",
       "      <th>247</th>\n",
       "      <td>247</td>\n",
       "      <td>Carlos José Portilho</td>\n",
       "      <td>131</td>\n",
       "      <td>12/10/1800</td>\n",
       "      <td>0</td>\n",
       "      <td>0</td>\n",
       "      <td>0</td>\n",
       "      <td>0</td>\n",
       "      <td>0</td>\n",
       "      <td>0</td>\n",
       "      <td>0</td>\n",
       "      <td>0</td>\n",
       "      <td>0</td>\n",
       "      <td>0</td>\n",
       "      <td>0</td>\n",
       "      <td>1</td>\n",
       "      <td>Miguel Lopes</td>\n",
       "      <td>Maria da Conceição</td>\n",
       "    </tr>\n",
       "  </tbody>\n",
       "</table>\n",
       "<p>248 rows × 18 columns</p>\n",
       "</div>"
      ],
      "text/plain": [
       "     Unnamed: 0                           Dizimista N° Casa Aniversário  \\\n",
       "0             0                  Renilde das Graças     758  20/07/2021   \n",
       "1             1           Mirian da Conceição Neves    769A  30/11/1957   \n",
       "2             2                Nilton Antônio Neves    769A  08/08/2021   \n",
       "3             3                        Julia Alves      823  20/01/2021   \n",
       "4             4                         Wiliam José     823  09/09/2021   \n",
       "..          ...                                 ...     ...         ...   \n",
       "243         243               Vilma Layses da Rocha     205  12/10/1800   \n",
       "244         244  Gabriel Henrique da Costa Oliveira      35  12/10/1800   \n",
       "245         245   Elaine Cristina Ferreira da Costa      35  12/10/1800   \n",
       "246         246              Josilany da Consolação     721  12/10/1800   \n",
       "247         247                Carlos José Portilho     131  12/10/1800   \n",
       "\n",
       "     Janeiro  Fevereiro  Março  Abril  Maio  Junho  Julho  Agosto  Setembro  \\\n",
       "0          0          0      0      0     0      0      0       0         0   \n",
       "1          0          0      0      0     0      0      1       1         0   \n",
       "2          0          0      0      0     0      0      1       1         1   \n",
       "3          0          0      0      0     0      0      0       1         1   \n",
       "4          0          0      0      0     0      0      0       1         1   \n",
       "..       ...        ...    ...    ...   ...    ...    ...     ...       ...   \n",
       "243        0          0      0      0     0      0      0       0         0   \n",
       "244        0          0      0      0     0      0      0       0         0   \n",
       "245        0          0      0      0     0      0      0       0         0   \n",
       "246        0          0      0      0     0      0      0       0         0   \n",
       "247        0          0      0      0     0      0      0       0         0   \n",
       "\n",
       "     Outubro  Novembro  Dezembro            Rua             Zelador  \n",
       "0          0         0         0      Palmeiras               Leire  \n",
       "1          1         1         1      Palmeiras               Leire  \n",
       "2          1         1         1      Palmeiras               Leire  \n",
       "3          1         0         0      Palmeiras               Leire  \n",
       "4          1         0         0      Palmeiras               Leire  \n",
       "..       ...       ...       ...            ...                 ...  \n",
       "243        0         1         0   Madressilvas               Ivone  \n",
       "244        0         1         0  Aurelio Lopes  Maria da Conceição  \n",
       "245        0         1         0  Aurelio Lopes  Maria da Conceição  \n",
       "246        0         0         1       Papoulas              Valter  \n",
       "247        0         0         1   Miguel Lopes  Maria da Conceição  \n",
       "\n",
       "[248 rows x 18 columns]"
      ]
     },
     "execution_count": 61,
     "metadata": {},
     "output_type": "execute_result"
    }
   ],
   "source": [
    "datas[0]"
   ]
  },
  {
   "cell_type": "code",
   "execution_count": 62,
   "metadata": {},
   "outputs": [
    {
     "data": {
      "text/plain": [
       "Unnamed: 0                      0\n",
       "Dizimista      Renilde das Graças\n",
       "N° Casa                       758\n",
       "Aniversário            20/07/2021\n",
       "Janeiro                         0\n",
       "Fevereiro                       0\n",
       "Março                           0\n",
       "Abril                           0\n",
       "Maio                            0\n",
       "Junho                           0\n",
       "Julho                           0\n",
       "Agosto                          0\n",
       "Setembro                        0\n",
       "Outubro                         0\n",
       "Novembro                        0\n",
       "Dezembro                        0\n",
       "Rua                     Palmeiras\n",
       "Zelador                     Leire\n",
       "Name: 0, dtype: object"
      ]
     },
     "execution_count": 62,
     "metadata": {},
     "output_type": "execute_result"
    }
   ],
   "source": [
    "# exemplo de acesso a linha\n",
    "datas[0].loc[0]"
   ]
  },
  {
   "cell_type": "code",
   "execution_count": 63,
   "metadata": {},
   "outputs": [
    {
     "data": {
      "text/plain": [
       "'20'"
      ]
     },
     "execution_count": 63,
     "metadata": {},
     "output_type": "execute_result"
    }
   ],
   "source": [
    "datas[0]['Aniversário'][0][:2] #dia do aniversário"
   ]
  },
  {
   "cell_type": "code",
   "execution_count": 64,
   "metadata": {},
   "outputs": [
    {
     "data": {
      "text/plain": [
       "'07'"
      ]
     },
     "execution_count": 64,
     "metadata": {},
     "output_type": "execute_result"
    }
   ],
   "source": [
    "datas[0]['Aniversário'][0][3:5] #mes do aniversário"
   ]
  },
  {
   "cell_type": "code",
   "execution_count": 65,
   "metadata": {},
   "outputs": [],
   "source": [
    "def getNiver(string:str):\n",
    "    if string == \"12/10/1800\":\n",
    "        return \"/\"\n",
    "    return string[:2] + \"/\" + string[3:5]"
   ]
  },
  {
   "cell_type": "code",
   "execution_count": 66,
   "metadata": {},
   "outputs": [],
   "source": [
    "def inserirDataFrame(df:pd.DataFrame,ano:str):\n",
    "    tam = len(df)\n",
    "    for i in range(tam):\n",
    "        linha = df.loc[i]\n",
    "        comunidade.inserirDizimista(linha[\"Dizimista\"],linha[\"N° Casa\"],getNiver(linha[\"Aniversário\"]),linha[\"Rua\"])\n",
    "        comunidade.inserirRua(linha['Rua'],linha['Zelador'])\n",
    "        for mes in meses:\n",
    "            if linha[mes]:\n",
    "                comunidade.marcarContribuinte(linha[\"Dizimista\"],linha[\"Rua\"],linha[\"N° Casa\"],mes,ano)"
   ]
  },
  {
   "cell_type": "code",
   "execution_count": 67,
   "metadata": {},
   "outputs": [
    {
     "name": "stdout",
     "output_type": "stream",
     "text": [
      "<class 'pandas.core.frame.DataFrame'>\n",
      "RangeIndex: 248 entries, 0 to 247\n",
      "Data columns (total 18 columns):\n",
      " #   Column       Non-Null Count  Dtype \n",
      "---  ------       --------------  ----- \n",
      " 0   Unnamed: 0   248 non-null    int64 \n",
      " 1   Dizimista    248 non-null    object\n",
      " 2   N° Casa      244 non-null    object\n",
      " 3   Aniversário  248 non-null    object\n",
      " 4   Janeiro      248 non-null    int64 \n",
      " 5   Fevereiro    248 non-null    int64 \n",
      " 6   Março        248 non-null    int64 \n",
      " 7   Abril        248 non-null    int64 \n",
      " 8   Maio         248 non-null    int64 \n",
      " 9   Junho        248 non-null    int64 \n",
      " 10  Julho        248 non-null    int64 \n",
      " 11  Agosto       248 non-null    int64 \n",
      " 12  Setembro     248 non-null    int64 \n",
      " 13  Outubro      248 non-null    int64 \n",
      " 14  Novembro     248 non-null    int64 \n",
      " 15  Dezembro     248 non-null    int64 \n",
      " 16  Rua          248 non-null    object\n",
      " 17  Zelador      248 non-null    object\n",
      "dtypes: int64(13), object(5)\n",
      "memory usage: 35.0+ KB\n"
     ]
    }
   ],
   "source": [
    "datas[0].info()"
   ]
  },
  {
   "cell_type": "code",
   "execution_count": 99,
   "metadata": {},
   "outputs": [],
   "source": [
    "def nullTovazio(value)->str:\n",
    "    if str(value) == \"nan\":\n",
    "        return \"\"\n",
    "    return str(value)"
   ]
  },
  {
   "cell_type": "code",
   "execution_count": 101,
   "metadata": {},
   "outputs": [],
   "source": [
    "for ano in anos:\n",
    "    datas[anos.index(ano)][\"N° Casa\"] = datas[anos.index(ano)][\"N° Casa\"].apply(lambda x: nullTovazio(x))\n",
    "    datas[anos.index(ano)]['Aniversário'] = datas[anos.index(ano)]['Aniversário'].astype(str)\n",
    "    dataFrame = datas[anos.index(ano)]\n",
    "    inserirDataFrame(dataFrame,ano)"
   ]
  }
 ],
 "metadata": {
  "kernelspec": {
   "display_name": "Python 3",
   "language": "python",
   "name": "python3"
  },
  "language_info": {
   "codemirror_mode": {
    "name": "ipython",
    "version": 3
   },
   "file_extension": ".py",
   "mimetype": "text/x-python",
   "name": "python",
   "nbconvert_exporter": "python",
   "pygments_lexer": "ipython3",
   "version": "3.8.10"
  },
  "orig_nbformat": 4,
  "vscode": {
   "interpreter": {
    "hash": "916dbcbb3f70747c44a77c7bcd40155683ae19c65e1c03b4aa3499c5328201f1"
   }
  }
 },
 "nbformat": 4,
 "nbformat_minor": 2
}
