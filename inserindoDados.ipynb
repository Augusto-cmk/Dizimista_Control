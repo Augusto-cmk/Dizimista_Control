{
 "cells": [
  {
   "cell_type": "code",
   "execution_count": 63,
   "metadata": {},
   "outputs": [],
   "source": [
    "import os\n",
    "import pandas as pd\n",
    "from Data.database import BancodeDados,BancodeDados_cadastro\n",
    "from modelo.dizimista import dizimista\n",
    "from modelo.rua import Rua\n",
    "import numpy as np"
   ]
  },
  {
   "cell_type": "code",
   "execution_count": 64,
   "metadata": {},
   "outputs": [],
   "source": [
    "def obterNome(nomeArquivo:str):\n",
    "    ponto = nomeArquivo.index(\".\")\n",
    "    return nomeArquivo[:ponto]"
   ]
  },
  {
   "cell_type": "code",
   "execution_count": 65,
   "metadata": {},
   "outputs": [
    {
     "data": {
      "text/plain": [
       "False"
      ]
     },
     "execution_count": 65,
     "metadata": {},
     "output_type": "execute_result"
    }
   ],
   "source": [
    "cadastro = BancodeDados_cadastro()\n",
    "cadastro.criar()\n",
    "cadastro.inserirCadastro(\"Suely\",\"Carolina98771139\",\"Suely Aparecida\",\"Comunidade Santa Mônica\")"
   ]
  },
  {
   "cell_type": "code",
   "execution_count": 66,
   "metadata": {},
   "outputs": [],
   "source": [
    "comunidade = BancodeDados(\"Comunidade Santa Mônica\")\n",
    "comunidade.criar()"
   ]
  },
  {
   "cell_type": "code",
   "execution_count": 67,
   "metadata": {},
   "outputs": [],
   "source": [
    "documentos = os.listdir(\"DadosAno\")"
   ]
  },
  {
   "cell_type": "code",
   "execution_count": 68,
   "metadata": {},
   "outputs": [],
   "source": [
    "datas = {}\n",
    "path = \"DadosAno/\"\n",
    "for doc in documentos:\n",
    "    ano = obterNome(doc)\n",
    "    datas[ano] = pd.read_excel(path+doc)"
   ]
  },
  {
   "cell_type": "code",
   "execution_count": 69,
   "metadata": {},
   "outputs": [],
   "source": [
    "anos = [\"2021\",\"2022\",\"2023\"]\n",
    "meses = [\"Janeiro\",\"Fevereiro\",\"Março\",\"Abril\",\"Maio\",\"Junho\",\"Julho\",\"Agosto\",\"Setembro\",\"Outubro\",\"Novembro\",\"Dezembro\"]"
   ]
  },
  {
   "cell_type": "code",
   "execution_count": 70,
   "metadata": {},
   "outputs": [],
   "source": [
    "def getNiver(string:str):\n",
    "    if string == \"12/10/1800\":\n",
    "        return \"/\"\n",
    "    return string[:2] + \"/\" + string[3:5]"
   ]
  },
  {
   "cell_type": "code",
   "execution_count": 71,
   "metadata": {},
   "outputs": [],
   "source": [
    "def inserirDataFrame(df:pd.DataFrame,ano:str):\n",
    "    tam = len(df)\n",
    "    for i in range(tam):\n",
    "        linha = df.loc[i]\n",
    "        comunidade.inserirDizimista(linha[\"Dizimista\"],linha[\"N° Casa\"],getNiver(linha[\"Aniversário\"]),linha[\"Rua\"])\n",
    "        comunidade.inserirRua(linha['Rua'],linha['Zelador'])\n",
    "        for mes in meses:\n",
    "            if linha[mes]:\n",
    "                comunidade.marcarContribuinte(linha[\"Dizimista\"],linha[\"Rua\"],linha[\"N° Casa\"],mes,ano)"
   ]
  },
  {
   "cell_type": "code",
   "execution_count": 72,
   "metadata": {},
   "outputs": [],
   "source": [
    "def nullTovazio(value)->str:\n",
    "    if str(value) == \"nan\":\n",
    "        return \"\"\n",
    "    return str(value)"
   ]
  },
  {
   "cell_type": "code",
   "execution_count": 101,
   "metadata": {},
   "outputs": [],
   "source": [
    "for ano in anos:\n",
    "    datas[ano][\"N° Casa\"] = datas[ano][\"N° Casa\"].apply(lambda x: nullTovazio(x))\n",
    "    datas[ano]['Aniversário'] = datas[ano]['Aniversário'].astype(str)\n",
    "    dataFrame = datas[ano]\n",
    "    inserirDataFrame(dataFrame,ano)"
   ]
  }
 ],
 "metadata": {
  "kernelspec": {
   "display_name": "Python 3",
   "language": "python",
   "name": "python3"
  },
  "language_info": {
   "codemirror_mode": {
    "name": "ipython",
    "version": 3
   },
   "file_extension": ".py",
   "mimetype": "text/x-python",
   "name": "python",
   "nbconvert_exporter": "python",
   "pygments_lexer": "ipython3",
   "version": "3.8.10"
  },
  "orig_nbformat": 4,
  "vscode": {
   "interpreter": {
    "hash": "916dbcbb3f70747c44a77c7bcd40155683ae19c65e1c03b4aa3499c5328201f1"
   }
  }
 },
 "nbformat": 4,
 "nbformat_minor": 2
}
